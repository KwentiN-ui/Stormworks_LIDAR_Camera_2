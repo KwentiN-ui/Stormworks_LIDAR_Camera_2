{
 "cells": [
  {
   "cell_type": "code",
   "execution_count": 1,
   "metadata": {},
   "outputs": [],
   "source": [
    "import numpy as np\n",
    "import sympy as sp\n",
    "import matplotlib.pyplot as plt\n",
    "sp.init_printing(use_latex=\"mathjax\")"
   ]
  },
  {
   "cell_type": "code",
   "execution_count": 12,
   "metadata": {},
   "outputs": [
    {
     "data": {
      "text/plain": [
       "array([  1,   2,   3,   4,   5,   6,   7,   8,   9,  10,  11,  12,  13,\n",
       "        14,  15,  16,  17,  18,  19,  20,  21,  22,  23,  24,  25,  26,\n",
       "        27,  28,  29,  30,  31,  32,  33,  34,  35,  36,  37,  38,  39,\n",
       "        40,  41,  42,  43,  44,  45,  46,  47,  48,  49,  50,  51,  52,\n",
       "        53,  54,  55,  56,  57,  58,  59,  60,  61,  62,  63,  64,  65,\n",
       "        66,  67,  68,  69,  70,  71,  72,  73,  74,  75,  76,  77,  78,\n",
       "        79,  80,  81,  82,  83,  84,  85,  86,  87,  88,  89,  90,  91,\n",
       "        92,  93,  94,  95,  96,  97,  98,  99, 100, 101, 102, 103, 104,\n",
       "       105, 106, 107, 108, 109, 110, 111, 112, 113, 114, 115, 116, 117,\n",
       "       118, 119, 120, 121, 122, 123, 124, 125, 126, 127, 128, 129, 130,\n",
       "       131, 132, 133, 134, 135, 136, 137, 138, 139, 140, 141, 142, 143,\n",
       "       144, 145, 146, 147, 148, 149, 150, 151, 152, 153, 154, 155, 156,\n",
       "       157, 158, 159, 160, 161, 162, 163, 164, 165, 166, 167, 168, 169,\n",
       "       170, 171, 172, 173, 174, 175, 176, 177, 178, 179, 180, 181, 182,\n",
       "       183, 184, 185, 186, 187, 188, 189, 190, 191, 192, 193, 194, 195,\n",
       "       196, 197, 198, 199, 200, 201, 202, 203, 204, 205, 206, 207, 208,\n",
       "       209, 210, 211, 212, 213, 214, 215, 216, 217, 218, 219, 220, 221,\n",
       "       222, 223, 224, 225, 226, 227, 228, 229, 230, 231, 232, 233, 234,\n",
       "       235, 236, 237, 238, 239, 240, 241, 242, 243, 244, 245, 246, 247,\n",
       "       248, 249, 250, 251, 252, 253, 254, 255, 256])"
      ]
     },
     "execution_count": 12,
     "metadata": {},
     "output_type": "execute_result"
    }
   ],
   "source": [
    "image = np.array([i for i in range(1,16**2+1)])\n",
    "image"
   ]
  },
  {
   "cell_type": "code",
   "execution_count": 13,
   "metadata": {},
   "outputs": [
    {
     "data": {
      "text/plain": [
       "<matplotlib.image.AxesImage at 0x16c8887ea10>"
      ]
     },
     "execution_count": 13,
     "metadata": {},
     "output_type": "execute_result"
    },
    {
     "data": {
      "image/png": "[encoded data removed]",
      "text/plain": [
       "<Figure size 640x480 with 1 Axes>"
      ]
     },
     "metadata": {},
     "output_type": "display_data"
    }
   ],
   "source": [
    "plt.imshow(image.reshape((16,16)),cmap=\"binary\")"
   ]
  },
  {
   "cell_type": "markdown",
   "metadata": {},
   "source": [
    "Upscale"
   ]
  },
  {
   "cell_type": "code",
   "execution_count": 35,
   "metadata": {},
   "outputs": [
    {
     "data": {
      "text/plain": [
       "array([ 53.53535354,   0.        ,  52.52525253,   0.        ,\n",
       "        51.51515152,   0.        ,  50.50505051,   0.        ,\n",
       "        49.49494949,   0.        ,  48.48484848,   0.        ,\n",
       "        47.47474747,   0.        ,  46.46464646,   0.        ,\n",
       "        45.45454545,   0.        ,  44.44444444,   0.        ,\n",
       "        43.43434343,   0.        ,  42.42424242,   0.        ,\n",
       "        41.41414141,   0.        ,  40.4040404 ,   0.        ,\n",
       "        39.39393939,   0.        ,  38.38383838,   0.        ,\n",
       "        37.37373737,   0.        ,  36.36363636,   0.        ,\n",
       "        35.35353535,   0.        ,  34.34343434,   0.        ,\n",
       "        33.33333333,   0.        ,  32.32323232,   0.        ,\n",
       "        31.31313131,   0.        ,  30.3030303 ,   0.        ,\n",
       "        29.29292929,   0.        ,  28.28282828,   0.        ,\n",
       "        27.27272727,   0.        ,  26.26262626,   0.        ,\n",
       "        25.25252525,   0.        ,  24.24242424,   0.        ,\n",
       "        23.23232323,   0.        ,  22.22222222,   0.        ,\n",
       "        21.21212121,   0.        ,  20.2020202 ,   0.        ,\n",
       "        19.19191919,   0.        ,  18.18181818,   0.        ,\n",
       "        17.17171717,   0.        ,  16.16161616,   0.        ,\n",
       "        15.15151515,   0.        ,  14.14141414,   0.        ,\n",
       "        13.13131313,   0.        ,  12.12121212,   0.        ,\n",
       "        11.11111111,   0.        ,  10.1010101 ,   0.        ,\n",
       "         9.09090909,   0.        ,   8.08080808,   0.        ,\n",
       "         7.07070707,   0.        ,   6.06060606,   0.        ,\n",
       "         5.05050505,   0.        ,   4.04040404,   0.        ,\n",
       "         3.03030303,   0.        ,   2.02020202,   0.        ,\n",
       "         1.01010101,   0.        ,   0.        ,   0.        ,\n",
       "       100.        ,   0.        ,  98.98989899,   0.        ,\n",
       "        97.97979798,   0.        ,  96.96969697,   0.        ,\n",
       "        95.95959596,   0.        ,  94.94949495,   0.        ,\n",
       "        93.93939394,   0.        ,  92.92929293,   0.        ,\n",
       "        91.91919192,   0.        ,  90.90909091,   0.        ,\n",
       "        89.8989899 ,   0.        ,  88.88888889,   0.        ,\n",
       "        87.87878788,   0.        ,  86.86868687,   0.        ,\n",
       "        85.85858586,   0.        ,  84.84848485,   0.        ,\n",
       "        83.83838384,   0.        ,  82.82828283,   0.        ,\n",
       "        81.81818182,   0.        ,  80.80808081,   0.        ,\n",
       "        79.7979798 ,   0.        ,  78.78787879,   0.        ,\n",
       "        77.77777778,   0.        ,  76.76767677,   0.        ,\n",
       "        75.75757576,   0.        ,  74.74747475,   0.        ,\n",
       "        73.73737374,   0.        ,  72.72727273,   0.        ,\n",
       "        71.71717172,   0.        ,  70.70707071,   0.        ,\n",
       "        69.6969697 ,   0.        ,  68.68686869,   0.        ,\n",
       "        67.67676768,   0.        ,  66.66666667,   0.        ,\n",
       "        65.65656566,   0.        ,  64.64646465,   0.        ,\n",
       "        63.63636364,   0.        ,  62.62626263,   0.        ,\n",
       "        61.61616162,   0.        ,  60.60606061,   0.        ,\n",
       "        59.5959596 ,   0.        ,  58.58585859,   0.        ,\n",
       "        57.57575758,   0.        ,  56.56565657,   0.        ,\n",
       "        55.55555556,   0.        ,  54.54545455,   0.        ,\n",
       "        53.53535354,   0.        ,  52.52525253,   0.        ,\n",
       "        51.51515152,   0.        ,  50.50505051,   0.        ,\n",
       "        49.49494949,   0.        ,  48.48484848,   0.        ,\n",
       "        47.47474747,   0.        ,  46.46464646,   0.        ,\n",
       "        45.45454545,   0.        ,  44.44444444,   0.        ,\n",
       "        43.43434343,   0.        ,  42.42424242,   0.        ,\n",
       "        41.41414141,   0.        ,  40.4040404 ,   0.        ,\n",
       "        39.39393939,   0.        ,  38.38383838,   0.        ,\n",
       "        37.37373737,   0.        ,  36.36363636,   0.        ,\n",
       "        35.35353535,   0.        ,  34.34343434,   0.        ,\n",
       "        33.33333333,   0.        ,  32.32323232,   0.        ,\n",
       "        31.31313131,   0.        ,  30.3030303 ,   0.        ,\n",
       "        29.29292929,   0.        ,  28.28282828,   0.        ,\n",
       "        27.27272727,   0.        ,  26.26262626,   0.        ,\n",
       "        25.25252525,   0.        ,  24.24242424,   0.        ,\n",
       "        23.23232323,   0.        ,  22.22222222,   0.        ,\n",
       "        21.21212121,   0.        ,  20.2020202 ,   0.        ,\n",
       "        19.19191919,   0.        ,  18.18181818,   0.        ,\n",
       "        17.17171717,   0.        ,  16.16161616,   0.        ,\n",
       "        15.15151515,   0.        ,  14.14141414,   0.        ,\n",
       "        13.13131313,   0.        ,  12.12121212,   0.        ,\n",
       "        11.11111111,   0.        ,  10.1010101 ,   0.        ,\n",
       "         9.09090909,   0.        ,   8.08080808,   0.        ,\n",
       "         7.07070707,   0.        ,   6.06060606,   0.        ,\n",
       "         5.05050505,   0.        ,   4.04040404,   0.        ,\n",
       "         3.03030303,   0.        ,   2.02020202,   0.        ,\n",
       "         1.01010101,   0.        ,   0.        ,   0.        ,\n",
       "       100.        ,   0.        ,  98.98989899,   0.        ,\n",
       "        97.97979798,   0.        ,  96.96969697,   0.        ,\n",
       "        95.95959596,   0.        ,  94.94949495,   0.        ,\n",
       "        93.93939394,   0.        ,  92.92929293,   0.        ,\n",
       "        91.91919192,   0.        ,  90.90909091,   0.        ,\n",
       "        89.8989899 ,   0.        ,  88.88888889,   0.        ,\n",
       "        87.87878788,   0.        ,  86.86868687,   0.        ,\n",
       "        85.85858586,   0.        ,  84.84848485,   0.        ,\n",
       "        83.83838384,   0.        ,  82.82828283,   0.        ,\n",
       "        81.81818182,   0.        ,  80.80808081,   0.        ,\n",
       "        79.7979798 ,   0.        ,  78.78787879,   0.        ,\n",
       "        77.77777778,   0.        ,  76.76767677,   0.        ,\n",
       "        75.75757576,   0.        ,  74.74747475,   0.        ,\n",
       "        73.73737374,   0.        ,  72.72727273,   0.        ,\n",
       "        71.71717172,   0.        ,  70.70707071,   0.        ,\n",
       "        69.6969697 ,   0.        ,  68.68686869,   0.        ,\n",
       "        67.67676768,   0.        ,  66.66666667,   0.        ,\n",
       "        65.65656566,   0.        ,  64.64646465,   0.        ,\n",
       "        63.63636364,   0.        ,  62.62626263,   0.        ,\n",
       "        61.61616162,   0.        ,  60.60606061,   0.        ,\n",
       "        59.5959596 ,   0.        ,  58.58585859,   0.        ,\n",
       "        57.57575758,   0.        ,  56.56565657,   0.        ,\n",
       "        55.55555556,   0.        ,  54.54545455,   0.        ,\n",
       "        53.53535354,   0.        ,  52.52525253,   0.        ,\n",
       "        51.51515152,   0.        ,  50.50505051,   0.        ,\n",
       "        49.49494949,   0.        ,  48.48484848,   0.        ,\n",
       "        47.47474747,   0.        ,  46.46464646,   0.        ,\n",
       "        45.45454545,   0.        ,  44.44444444,   0.        ,\n",
       "        43.43434343,   0.        ,  42.42424242,   0.        ,\n",
       "        41.41414141,   0.        ,  40.4040404 ,   0.        ,\n",
       "        39.39393939,   0.        ,  38.38383838,   0.        ,\n",
       "        37.37373737,   0.        ,  36.36363636,   0.        ,\n",
       "        35.35353535,   0.        ,  34.34343434,   0.        ,\n",
       "        33.33333333,   0.        ,  32.32323232,   0.        ,\n",
       "        31.31313131,   0.        ,  30.3030303 ,   0.        ,\n",
       "        29.29292929,   0.        ,  28.28282828,   0.        ,\n",
       "        27.27272727,   0.        ,  26.26262626,   0.        ,\n",
       "        25.25252525,   0.        ,  24.24242424,   0.        ,\n",
       "        23.23232323,   0.        ,  22.22222222,   0.        ,\n",
       "        21.21212121,   0.        ,  20.2020202 ,   0.        ,\n",
       "        19.19191919,   0.        ,  18.18181818,   0.        ,\n",
       "        17.17171717,   0.        ,  16.16161616,   0.        ,\n",
       "        15.15151515,   0.        ,  14.14141414,   0.        ,\n",
       "        13.13131313,   0.        ,  12.12121212,   0.        ,\n",
       "        11.11111111,   0.        ,  10.1010101 ,   0.        ,\n",
       "         9.09090909,   0.        ,   8.08080808,   0.        ,\n",
       "         7.07070707,   0.        ,   6.06060606,   0.        ,\n",
       "         5.05050505,   0.        ,   4.04040404,   0.        ,\n",
       "         3.03030303,   0.        ,   2.02020202,   0.        ,\n",
       "         1.01010101,   0.        ,   0.        ,   0.        ,\n",
       "       100.        ,   0.        ,  98.98989899,   0.        ])"
      ]
     },
     "execution_count": 35,
     "metadata": {},
     "output_type": "execute_result"
    }
   ],
   "source": [
    "upscaled = [53.535353535353536, 0, 52.52525252525253, 0, 51.515151515151516, 0, 50.505050505050505, 0, 49.494949494949495, 0, 48.484848484848484, 0, 47.474747474747474, 0, 46.464646464646464, 0, 45.45454545454546, 0, 44.44444444444445, 0, 43.43434343434344, 0, 42.42424242424242, 0, 41.41414141414141, 0, 40.4040404040404, 0, 39.3939393939394, 0, 38.38383838383839, 0, 37.37373737373738, 0, 36.36363636363637, 0, 35.35353535353536, 0, 34.34343434343434, 0, 33.333333333333336, 0, 32.323232323232325, 0, 31.313131313131315, 0, 30.303030303030305, 0, 29.292929292929294, 0, 28.28282828282828, 0, 27.272727272727277, 0, 26.262626262626267, 0, 25.252525252525253, 0, 24.242424242424242, 0, 23.232323232323232, 0, 22.222222222222225, 0, 21.21212121212121, 0, 20.2020202020202, 0, 19.191919191919194, 0, 18.181818181818183, 0, 17.17171717171717, 0, 16.161616161616163, 0, 15.151515151515152, 0, 14.14141414141414, 0, 13.131313131313133, 0, 12.121212121212123, 0, 11.111111111111112, 0, 10.101010101010102, 0, 9.090909090909092, 0, 8.080808080808081, 0, 7.070707070707072, 0, 6.060606060606061, 0, 5.05050505050505, 0, 4.040404040404041, 0, 3.0303030303030303, 0, 2.02020202020202, 0, 1.0101010101010102, 0, 0, 0, 100, 0, 98.98989898989899, 0, 97.97979797979798, 0, 96.96969696969697, 0, 95.95959595959596, 0, 94.94949494949495, 0, 93.93939393939394, 0, 92.92929292929294, 0, 91.91919191919192, 0, 90.90909090909092, 0, 89.8989898989899, 0, 88.8888888888889, 0, 87.87878787878788, 0, 86.86868686868688, 0, 85.85858585858585, 0, 84.84848484848484, 0, 83.83838383838383, 0, 82.82828282828282, 0, 81.81818181818181, 0, 80.80808080808082, 0, 79.7979797979798, 0, 78.7878787878788, 0, 77.77777777777779, 0, 76.76767676767678, 0, 75.75757575757575, 0, 74.74747474747475, 0, 73.73737373737373, 0, 72.72727272727273, 0, 71.71717171717171, 0, 70.70707070707071, 0, 69.69696969696969, 0, 68.68686868686868, 0, 67.67676767676768, 0, 66.66666666666667, 0, 65.65656565656566, 0, 64.64646464646465, 0, 63.63636363636363, 0, 62.62626262626263, 0, 61.61616161616161, 0, 60.60606060606061, 0, 59.59595959595959, 0, 58.58585858585859, 0, 57.57575757575757, 0, 56.56565656565656, 0, 55.55555555555556, 0, 54.545454545454554, 0, 53.535353535353536, 0, 52.52525252525253, 0, 51.515151515151516, 0, 50.505050505050505, 0, 49.494949494949495, 0, 48.484848484848484, 0, 47.474747474747474, 0, 46.464646464646464, 0, 45.45454545454546, 0, 44.44444444444445, 0, 43.43434343434344, 0, 42.42424242424242, 0, 41.41414141414141, 0, 40.4040404040404, 0, 39.3939393939394, 0, 38.38383838383839, 0, 37.37373737373738, 0, 36.36363636363637, 0, 35.35353535353536, 0, 34.34343434343434, 0, 33.333333333333336, 0, 32.323232323232325, 0, 31.313131313131315, 0, 30.303030303030305, 0, 29.292929292929294, 0, 28.28282828282828, 0, 27.272727272727277, 0, 26.262626262626267, 0, 25.252525252525253, 0, 24.242424242424242, 0, 23.232323232323232, 0, 22.222222222222225, 0, 21.21212121212121, 0, 20.2020202020202, 0, 19.191919191919194, 0, 18.181818181818183, 0, 17.17171717171717, 0, 16.161616161616163, 0, 15.151515151515152, 0, 14.14141414141414, 0, 13.131313131313133, 0, 12.121212121212123, 0, 11.111111111111112, 0, 10.101010101010102, 0, 9.090909090909092, 0, 8.080808080808081, 0, 7.070707070707072, 0, 6.060606060606061, 0, 5.05050505050505, 0, 4.040404040404041, 0, 3.0303030303030303, 0, 2.02020202020202, 0, 1.0101010101010102, 0, 0, 0, 100, 0, 98.98989898989899, 0, 97.97979797979798, 0, 96.96969696969697, 0, 95.95959595959596, 0, 94.94949494949495, 0, 93.93939393939394, 0, 92.92929292929294, 0, 91.91919191919192, 0, 90.90909090909092, 0, 89.8989898989899, 0, 88.8888888888889, 0, 87.87878787878788, 0, 86.86868686868688, 0, 85.85858585858585, 0, 84.84848484848484, 0, 83.83838383838383, 0, 82.82828282828282, 0, 81.81818181818181, 0, 80.80808080808082, 0, 79.7979797979798, 0, 78.7878787878788, 0, 77.77777777777779, 0, 76.76767676767678, 0, 75.75757575757575, 0, 74.74747474747475, 0, 73.73737373737373, 0, 72.72727272727273, 0, 71.71717171717171, 0, 70.70707070707071, 0, 69.69696969696969, 0, 68.68686868686868, 0, 67.67676767676768, 0, 66.66666666666667, 0, 65.65656565656566, 0, 64.64646464646465, 0, 63.63636363636363, 0, 62.62626262626263, 0, 61.61616161616161, 0, 60.60606060606061, 0, 59.59595959595959, 0, 58.58585858585859, 0, 57.57575757575757, 0, 56.56565656565656, 0, 55.55555555555556, 0, 54.545454545454554, 0, 53.535353535353536, 0, 52.52525252525253, 0, 51.515151515151516, 0, 50.505050505050505, 0, 49.494949494949495, 0, 48.484848484848484, 0, 47.474747474747474, 0, 46.464646464646464, 0, 45.45454545454546, 0, 44.44444444444445, 0, 43.43434343434344, 0, 42.42424242424242, 0, 41.41414141414141, 0, 40.4040404040404, 0, 39.3939393939394, 0, 38.38383838383839, 0, 37.37373737373738, 0, 36.36363636363637, 0, 35.35353535353536, 0, 34.34343434343434, 0, 33.333333333333336, 0, 32.323232323232325, 0, 31.313131313131315, 0, 30.303030303030305, 0, 29.292929292929294, 0, 28.28282828282828, 0, 27.272727272727277, 0, 26.262626262626267, 0, 25.252525252525253, 0, 24.242424242424242, 0, 23.232323232323232, 0, 22.222222222222225, 0, 21.21212121212121, 0, 20.2020202020202, 0, 19.191919191919194, 0, 18.181818181818183, 0, 17.17171717171717, 0, 16.161616161616163, 0, 15.151515151515152, 0, 14.14141414141414, 0, 13.131313131313133, 0, 12.121212121212123, 0, 11.111111111111112, 0, 10.101010101010102, 0, 9.090909090909092, 0, 8.080808080808081, 0, 7.070707070707072, 0, 6.060606060606061, 0, 5.05050505050505, 0, 4.040404040404041, 0, 3.0303030303030303, 0, 2.02020202020202, 0, 1.0101010101010102, 0, 0, 0, 100, 0, 98.98989898989899, 0]\n",
    "upscaled = np.array(upscaled)\n",
    "upscaled"
   ]
  },
  {
   "cell_type": "code",
   "execution_count": 1,
   "metadata": {},
   "outputs": [],
   "source": [
    "def to_xy(pos,n):\n",
    "    return (pos-1)//n+1"
   ]
  },
  {
   "cell_type": "code",
   "execution_count": 2,
   "metadata": {},
   "outputs": [],
   "source": [
    "def to_xy2(pos,n):\n",
    "    return int((pos-1)/n)+1"
   ]
  },
  {
   "cell_type": "code",
   "execution_count": 3,
   "metadata": {},
   "outputs": [
    {
     "data": {
      "text/plain": [
       "2"
      ]
     },
     "execution_count": 3,
     "metadata": {},
     "output_type": "execute_result"
    }
   ],
   "source": [
    "to_xy(11,10)"
   ]
  },
  {
   "cell_type": "code",
   "execution_count": 4,
   "metadata": {},
   "outputs": [
    {
     "data": {
      "text/plain": [
       "2"
      ]
     },
     "execution_count": 4,
     "metadata": {},
     "output_type": "execute_result"
    }
   ],
   "source": [
    "to_xy2(11,10)"
   ]
  },
  {
   "cell_type": "code",
   "execution_count": 7,
   "metadata": {},
   "outputs": [
    {
     "data": {
      "text/plain": [
       "0"
      ]
     },
     "execution_count": 7,
     "metadata": {},
     "output_type": "execute_result"
    }
   ],
   "source": [
    "zoom = 0.5\n",
    "w,h = 32,32\n",
    "x0,y0 = 0,0\n",
    "\n",
    "def px_to_dxdy(px,py,zoom):\n",
    "    return 0,0\n",
    "px_to_dxdy(0,0,zoom)"
   ]
  },
  {
   "cell_type": "code",
   "execution_count": null,
   "metadata": {},
   "outputs": [],
   "source": []
  }
 ],
 "metadata": {
  "kernelspec": {
   "display_name": "Python 3",
   "language": "python",
   "name": "python3"
  },
  "language_info": {
   "codemirror_mode": {
    "name": "ipython",
    "version": 3
   },
   "file_extension": ".py",
   "mimetype": "text/x-python",
   "name": "python",
   "nbconvert_exporter": "python",
   "pygments_lexer": "ipython3",
   "version": "3.10.11"
  },
  "orig_nbformat": 4
 },
 "nbformat": 4,
 "nbformat_minor": 2
}
